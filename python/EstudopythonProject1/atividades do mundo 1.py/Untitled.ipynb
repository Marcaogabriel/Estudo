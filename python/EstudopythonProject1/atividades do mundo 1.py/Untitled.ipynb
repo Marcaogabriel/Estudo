{
 "cells": [
  {
   "cell_type": "code",
   "execution_count": 69,
   "id": "a8fc537e",
   "metadata": {},
   "outputs": [],
   "source": [
    "from prettytable import PrettyTable, DOUBLE_BORDER\n",
    "tabela = PrettyTable()\n"
   ]
  },
  {
   "cell_type": "code",
   "execution_count": 128,
   "id": "2dccaed0",
   "metadata": {},
   "outputs": [
    {
     "name": "stdout",
     "output_type": "stream",
     "text": [
      "Nome: Marcos\n",
      "Idade: 15\n",
      "Sexo: Masculino\n",
      "Dia que nasceu: 30\n",
      "Mês que nasceu: 03\n",
      "Ano que nasceu: 20017\n",
      "Nome: Kamila\n",
      "Idade: 16\n",
      "Sexo: Feminino\n",
      "Dia que nasceu: 02\n",
      "Mês que nasceu: 01\n",
      "Ano que nasceu: 2006\n",
      "Nome: Maju\n",
      "Idade: 15\n",
      "Sexo: Feminino\n",
      "Dia que nasceu: 08\n",
      "Mês que nasceu: 03\n",
      "Ano que nasceu: 2007\n",
      "Nome: Matheus\n",
      "Idade: 16\n",
      "Sexo: Masculino\n",
      "Dia que nasceu: 24\n",
      "Mês que nasceu: 06\n",
      "Ano que nasceu: 2006\n"
     ]
    }
   ],
   "source": [
    "import prettytable\n",
    "tabela = prettytable.PrettyTable()\n",
    "nome = str(input(\"Nome: \"))\n",
    "idade = int(input(\"Idade: \"))\n",
    "sexo = str(input(\"Sexo: \"))\n",
    "dia = int(input(\"Dia que nasceu: \"))\n",
    "mes = int(input(\"Mês que nasceu: \"))\n",
    "ano = int(input(\"Ano que nasceu: \"))\n",
    "nome1 = str(input(\"Nome: \"))\n",
    "idade1 = int(input(\"Idade: \"))\n",
    "sexo1 = str(input(\"Sexo: \"))\n",
    "dia1 = int(input(\"Dia que nasceu: \"))\n",
    "mes1 = int(input(\"Mês que nasceu: \"))\n",
    "ano1 = int(input(\"Ano que nasceu: \"))\n",
    "nome2 = str(input(\"Nome: \"))\n",
    "idade2 = int(input(\"Idade: \"))\n",
    "sexo2 = str(input(\"Sexo: \"))\n",
    "dia2 = int(input(\"Dia que nasceu: \"))\n",
    "mes2 = int(input(\"Mês que nasceu: \"))\n",
    "ano2 = int(input(\"Ano que nasceu: \"))\n",
    "nome3 = str(input(\"Nome: \"))\n",
    "idade3 = int(input(\"Idade: \"))\n",
    "sexo3 = str(input(\"Sexo: \"))\n",
    "dia3 = int(input(\"Dia que nasceu: \"))\n",
    "mes3 = int(input(\"Mês que nasceu: \"))\n",
    "ano3 = int(input(\"Ano que nasceu: \"))\n",
    "tabela = prettytable.PrettyTable()\n",
    "tabela.field_names = [ \"Nome\" , \"Idade\" , \"Sexo\" , \"Dia\" , \"Mês\", \"Ano\"]\n",
    "tabela.add_rows (\n",
    "    [\n",
    "        [ nome , idade , sexo, dia , mes, ano ] ,\n",
    "        [ nome1 , idade1 , sexo1, dia1 , mes1, ano1 ] , \n",
    "        [ nome2 , idade2 , sexo2, dia2 , mes2, ano2 ] ,\n",
    "        [ nome3 , idade3 , sexo3, dia3 , mes3, ano3 ]\n",
    "    ]\n",
    ")\n"
   ]
  },
  {
   "cell_type": "code",
   "execution_count": 129,
   "id": "aa5da84c",
   "metadata": {},
   "outputs": [
    {
     "name": "stdout",
     "output_type": "stream",
     "text": [
      "╔═════════╦═══════╦═══════════╦═════╦═════╦═══════╗\n",
      "║   Nome  ║ Idade ║    Sexo   ║ Dia ║ Mês ║  Ano  ║\n",
      "╠═════════╬═══════╬═══════════╬═════╬═════╬═══════╣\n",
      "║  Marcos ║   15  ║ Masculino ║  30 ║  3  ║ 20017 ║\n",
      "║  Kamila ║   16  ║  Feminino ║  2  ║  1  ║  2006 ║\n",
      "║   Maju  ║   15  ║  Feminino ║  8  ║  3  ║  2007 ║\n",
      "║ Matheus ║   16  ║ Masculino ║  24 ║  6  ║  2006 ║\n",
      "╚═════════╩═══════╩═══════════╩═════╩═════╩═══════╝\n"
     ]
    }
   ],
   "source": [
    "tabela.set_style(prettytable.DOUBLE_BORDER)\n",
    "print(tabela)"
   ]
  },
  {
   "cell_type": "code",
   "execution_count": 130,
   "id": "ff1473f8",
   "metadata": {},
   "outputs": [
    {
     "name": "stdout",
     "output_type": "stream",
     "text": [
      "╔═════════╦═══════╦═══════════╦═════╦═════╦═══════╗\n",
      "║   Nome  ║ Idade ║    Sexo   ║ Dia ║ Mês ║  Ano  ║\n",
      "╠═════════╬═══════╬═══════════╬═════╬═════╬═══════╣\n",
      "║  Marcos ║   15  ║ Masculino ║  30 ║  3  ║ 20017 ║\n",
      "║  Kamila ║   16  ║  Feminino ║  2  ║  1  ║  2006 ║\n",
      "║   Maju  ║   15  ║  Feminino ║  8  ║  3  ║  2007 ║\n",
      "║ Matheus ║   16  ║ Masculino ║  24 ║  6  ║  2006 ║\n",
      "╚═════════╩═══════╩═══════════╩═════╩═════╩═══════╝\n"
     ]
    }
   ],
   "source": [
    "print(tabela)"
   ]
  },
  {
   "cell_type": "code",
   "execution_count": null,
   "id": "4d842de1",
   "metadata": {},
   "outputs": [],
   "source": []
  }
 ],
 "metadata": {
  "kernelspec": {
   "display_name": "Python 3 (ipykernel)",
   "language": "python",
   "name": "python3"
  },
  "language_info": {
   "codemirror_mode": {
    "name": "ipython",
    "version": 3
   },
   "file_extension": ".py",
   "mimetype": "text/x-python",
   "name": "python",
   "nbconvert_exporter": "python",
   "pygments_lexer": "ipython3",
   "version": "3.9.13"
  }
 },
 "nbformat": 4,
 "nbformat_minor": 5
}
